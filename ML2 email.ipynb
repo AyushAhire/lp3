{
 "cells": [
  {
   "cell_type": "code",
   "execution_count": null,
   "id": "f8b50540-8b91-4d0c-8be7-eae713018ca7",
   "metadata": {},
   "outputs": [],
   "source": [
    "import pandas as pd\n",
    "import numpy as np\n",
    "import seaborn as sns\n",
    "import matplotlib.pyplot as plt\n",
    "\n",
    "from sklearn.model_selection import train_test_split\n",
    "from sklearn.neighbors import KNeighborsClassifier\n",
    "from sklearn.svm import SVC\n",
    "from sklearn.metrics import classification_report, confusion_matrix\n",
    "\n",
    "import warnings\n",
    "warnings.filterwarnings('ignore')\n",
    "\n",
    "df = pd.read_csv(\"emails.csv\")\n",
    "\n",
    "df = df.drop('Email No.', axis=1)\n",
    "df.head()\n",
    "\n",
    "sns.countplot(x = df['Prediction'])\n",
    "\n",
    "x = df.drop('Prediction', axis = 1)\n",
    "y = df['Prediction']\n",
    "xtrain, xtest, ytrain, ytest = train_test_split(x, y, test_size = 0.20)\n",
    "\n",
    "neigh = KNeighborsClassifier(n_neighbors = 2)\n",
    "neigh.fit(xtrain, ytrain)\n",
    "\n",
    "ypred = neigh.predict(xtest)\n",
    "\n",
    "cm = confusion_matrix(ytest, ypred)\n",
    "sns.heatmap(cm, annot = True)\n",
    "plt.xlabel('Predicted')\n",
    "plt.ylabel('Actual')\n",
    "\n",
    "print(classification_report(ytest, ypred))\n",
    "\n",
    "svm = SVC()\n",
    "svm.fit(xtrain, ytrain)\n",
    "\n",
    "ypred = svm.predict(xtest)\n",
    "\n",
    "cm = confusion_matrix(ytest, ypred)\n",
    "sns.heatmap(cm, annot = True)\n",
    "plt.xlabel('Predicted')\n",
    "plt.ylabel('Actual')\n",
    "\n",
    "print(classification_report(ytest, ypred))"
   ]
  }
 ],
 "metadata": {
  "kernelspec": {
   "display_name": "Python 3 (ipykernel)",
   "language": "python",
   "name": "python3"
  },
  "language_info": {
   "codemirror_mode": {
    "name": "ipython",
    "version": 3
   },
   "file_extension": ".py",
   "mimetype": "text/x-python",
   "name": "python",
   "nbconvert_exporter": "python",
   "pygments_lexer": "ipython3",
   "version": "3.9.13"
  }
 },
 "nbformat": 4,
 "nbformat_minor": 5
}
