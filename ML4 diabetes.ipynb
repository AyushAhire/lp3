{
 "cells": [
  {
   "cell_type": "code",
   "execution_count": null,
   "id": "9b86d832-b6aa-45ac-8943-8e1f083b21b4",
   "metadata": {},
   "outputs": [],
   "source": [
    "import pandas as pd\n",
    "import numpy as np\n",
    "import matplotlib.pyplot as plt\n",
    "import seaborn as sns\n",
    "\n",
    "from sklearn.model_selection import train_test_split\n",
    "from sklearn.neighbors import KNeighborsClassifier\n",
    "from sklearn.metrics import classification_report, confusion_matrix\n",
    "\n",
    "import warnings\n",
    "warnings.filterwarnings('ignore')\n",
    "\n",
    "df = pd.read_csv('diabetes.csv')\n",
    "\n",
    "df.head()\n",
    "#df.tail()\n",
    "#df.shape\n",
    "#df.columns\n",
    "#df.describe()\n",
    "#df.info()\n",
    "#df.isnull().sum()\n",
    "\n",
    "sns.countplot(x = df['Outcome'])\n",
    "\n",
    "sns.boxplot(data = df, x = 'Pregnancies')\n",
    "\n",
    "sns.heatmap(df.corr(), annot=True)\n",
    "\n",
    "x = df.iloc[:,0:8]\n",
    "y = df.iloc[:, -1]\n",
    "xtrain, xtest, ytrain, ytest = train_test_split(x, y, test_size=0.20, random_state=42)\n",
    "print(xtrain.shape, xtest.shape, ytrain.shape, ytest.shape)\n",
    "\n",
    "model = KNeighborsClassifier(n_neighbors=2)\n",
    "model.fit(xtrain, ytrain)\n",
    "\n",
    "ypred = model.predict(xtest)\n",
    "\n",
    "cm = confusion_matrix(ytest, ypred)\n",
    "sns.heatmap(cm, annot = True)\n",
    "plt.xlabel('Predicted')\n",
    "plt.ylabel('Actual')\n",
    "\n",
    "print(classification_report(ytest, ypred))"
   ]
  }
 ],
 "metadata": {
  "kernelspec": {
   "display_name": "Python 3 (ipykernel)",
   "language": "python",
   "name": "python3"
  },
  "language_info": {
   "codemirror_mode": {
    "name": "ipython",
    "version": 3
   },
   "file_extension": ".py",
   "mimetype": "text/x-python",
   "name": "python",
   "nbconvert_exporter": "python",
   "pygments_lexer": "ipython3",
   "version": "3.9.13"
  }
 },
 "nbformat": 4,
 "nbformat_minor": 5
}
